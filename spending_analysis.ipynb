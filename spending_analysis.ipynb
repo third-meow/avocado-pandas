{
 "cells": [
  {
   "cell_type": "code",
   "execution_count": 2,
   "metadata": {},
   "outputs": [],
   "source": [
    "import pandas as pd\n",
    "import numpy as np\n",
    "from datetime import timedelta, date, datetime\n",
    "\n",
    "## my personal bank statments, exported as a csv and stored locally on my machine\n",
    "spending_df = pd.read_csv('~/datasets/bank/spending_17May.CSV')\n"
   ]
  },
  {
   "cell_type": "code",
   "execution_count": 3,
   "metadata": {},
   "outputs": [],
   "source": [
    "\"\"\" Clean up df \"\"\"\n",
    "\n",
    "# remove transactions between my own bank accounts\n",
    "spending_df = spending_df[spending_df['OP name'] != 'J D SHEA']\n",
    "# remove deposits etc\n",
    "spending_df = spending_df[spending_df['Amount'] < 0]\n",
    "\n",
    "# make date in datetime format\n",
    "spending_df['Date'] = pd.to_datetime(spending_df['Date'])\n",
    "\n",
    "# flip amount col\n",
    "spending_df['Cost'] = -spending_df['Amount']\n",
    "# grab cols we care about\n",
    "spending_df = spending_df[['Date', 'Memo/Description', 'Cost', 'Balance']]\n",
    "\n",
    "# add date as integer col\n",
    "spending_df['Date_int'] = spending_df['Date'].astype(np.int64)\n",
    "\n",
    "                          "
   ]
  },
  {
   "cell_type": "code",
   "execution_count": 4,
   "metadata": {},
   "outputs": [
    {
     "name": "stdout",
     "output_type": "stream",
     "text": [
      "1345\n"
     ]
    },
    {
     "data": {
      "text/html": [
       "<div>\n",
       "<style scoped>\n",
       "    .dataframe tbody tr th:only-of-type {\n",
       "        vertical-align: middle;\n",
       "    }\n",
       "\n",
       "    .dataframe tbody tr th {\n",
       "        vertical-align: top;\n",
       "    }\n",
       "\n",
       "    .dataframe thead th {\n",
       "        text-align: right;\n",
       "    }\n",
       "</style>\n",
       "<table border=\"1\" class=\"dataframe\">\n",
       "  <thead>\n",
       "    <tr style=\"text-align: right;\">\n",
       "      <th></th>\n",
       "      <th>Date</th>\n",
       "      <th>Memo/Description</th>\n",
       "      <th>Cost</th>\n",
       "      <th>Balance</th>\n",
       "      <th>Date_int</th>\n",
       "    </tr>\n",
       "  </thead>\n",
       "  <tbody>\n",
       "    <tr>\n",
       "      <th>91</th>\n",
       "      <td>2019-07-14</td>\n",
       "      <td>SAI BAKERY &amp; CAFE HAMILTON ;</td>\n",
       "      <td>4.00</td>\n",
       "      <td>23.42</td>\n",
       "      <td>1563062400000000000</td>\n",
       "    </tr>\n",
       "    <tr>\n",
       "      <th>214</th>\n",
       "      <td>2019-02-11</td>\n",
       "      <td>SUBWAY MANNERS STREET WELLINGTON ;</td>\n",
       "      <td>1.20</td>\n",
       "      <td>27.56</td>\n",
       "      <td>1549843200000000000</td>\n",
       "    </tr>\n",
       "    <tr>\n",
       "      <th>152</th>\n",
       "      <td>2019-06-09</td>\n",
       "      <td>TOMMY MILLIONS WELLINGTON ;</td>\n",
       "      <td>5.00</td>\n",
       "      <td>37.99</td>\n",
       "      <td>1560038400000000000</td>\n",
       "    </tr>\n",
       "    <tr>\n",
       "      <th>349</th>\n",
       "      <td>2020-02-13</td>\n",
       "      <td>BIKE BARN WELLINGTON WELLINGTON ;</td>\n",
       "      <td>9.99</td>\n",
       "      <td>143.69</td>\n",
       "      <td>1581552000000000000</td>\n",
       "    </tr>\n",
       "    <tr>\n",
       "      <th>196</th>\n",
       "      <td>2019-10-22</td>\n",
       "      <td>POS W/D SNAPPER SERVI-20:48 ;</td>\n",
       "      <td>10.00</td>\n",
       "      <td>165.75</td>\n",
       "      <td>1571702400000000000</td>\n",
       "    </tr>\n",
       "  </tbody>\n",
       "</table>\n",
       "</div>"
      ],
      "text/plain": [
       "          Date                    Memo/Description   Cost  Balance  \\\n",
       "91  2019-07-14        SAI BAKERY & CAFE HAMILTON ;   4.00    23.42   \n",
       "214 2019-02-11  SUBWAY MANNERS STREET WELLINGTON ;   1.20    27.56   \n",
       "152 2019-06-09         TOMMY MILLIONS WELLINGTON ;   5.00    37.99   \n",
       "349 2020-02-13   BIKE BARN WELLINGTON WELLINGTON ;   9.99   143.69   \n",
       "196 2019-10-22       POS W/D SNAPPER SERVI-20:48 ;  10.00   165.75   \n",
       "\n",
       "                Date_int  \n",
       "91   1563062400000000000  \n",
       "214  1549843200000000000  \n",
       "152  1560038400000000000  \n",
       "349  1581552000000000000  \n",
       "196  1571702400000000000  "
      ]
     },
     "execution_count": 4,
     "metadata": {},
     "output_type": "execute_result"
    }
   ],
   "source": [
    "print(spending_df.size)\n",
    "spending_df.sample(5)"
   ]
  },
  {
   "cell_type": "code",
   "execution_count": 5,
   "metadata": {
    "scrolled": true
   },
   "outputs": [
    {
     "name": "stdout",
     "output_type": "stream",
     "text": [
      "Median cost: $7.5\n",
      "Mean cost: $14.319814126394053\n",
      "Mode cost: $10.0\n",
      "Some $10.00 transactions:\n"
     ]
    },
    {
     "data": {
      "text/html": [
       "<div>\n",
       "<style scoped>\n",
       "    .dataframe tbody tr th:only-of-type {\n",
       "        vertical-align: middle;\n",
       "    }\n",
       "\n",
       "    .dataframe tbody tr th {\n",
       "        vertical-align: top;\n",
       "    }\n",
       "\n",
       "    .dataframe thead th {\n",
       "        text-align: right;\n",
       "    }\n",
       "</style>\n",
       "<table border=\"1\" class=\"dataframe\">\n",
       "  <thead>\n",
       "    <tr style=\"text-align: right;\">\n",
       "      <th></th>\n",
       "      <th>Date</th>\n",
       "      <th>Memo/Description</th>\n",
       "      <th>Cost</th>\n",
       "      <th>Balance</th>\n",
       "      <th>Date_int</th>\n",
       "    </tr>\n",
       "  </thead>\n",
       "  <tbody>\n",
       "    <tr>\n",
       "      <th>441</th>\n",
       "      <td>2020-10-05</td>\n",
       "      <td>TRADEME O361 PING Wellington ;</td>\n",
       "      <td>10.0</td>\n",
       "      <td>10.29</td>\n",
       "      <td>1601856000000000000</td>\n",
       "    </tr>\n",
       "    <tr>\n",
       "      <th>371</th>\n",
       "      <td>2020-02-26</td>\n",
       "      <td>POS W/D SNAPPER SERVI-15:39 ;</td>\n",
       "      <td>10.0</td>\n",
       "      <td>10.00</td>\n",
       "      <td>1582675200000000000</td>\n",
       "    </tr>\n",
       "    <tr>\n",
       "      <th>161</th>\n",
       "      <td>2019-09-14</td>\n",
       "      <td>POS W/D SNAPPER SERVI-17:06 ;</td>\n",
       "      <td>10.0</td>\n",
       "      <td>0.11</td>\n",
       "      <td>1568419200000000000</td>\n",
       "    </tr>\n",
       "    <tr>\n",
       "      <th>63</th>\n",
       "      <td>2019-05-07</td>\n",
       "      <td>POS W/D SNAPPER SERVI-08:57 ;</td>\n",
       "      <td>10.0</td>\n",
       "      <td>23.13</td>\n",
       "      <td>1557187200000000000</td>\n",
       "    </tr>\n",
       "    <tr>\n",
       "      <th>133</th>\n",
       "      <td>2019-08-13</td>\n",
       "      <td>POS W/D SNAPPER SERVI-15:43 ;</td>\n",
       "      <td>10.0</td>\n",
       "      <td>47.39</td>\n",
       "      <td>1565654400000000000</td>\n",
       "    </tr>\n",
       "    <tr>\n",
       "      <th>196</th>\n",
       "      <td>2019-10-22</td>\n",
       "      <td>POS W/D SNAPPER SERVI-20:48 ;</td>\n",
       "      <td>10.0</td>\n",
       "      <td>165.75</td>\n",
       "      <td>1571702400000000000</td>\n",
       "    </tr>\n",
       "    <tr>\n",
       "      <th>110</th>\n",
       "      <td>2019-07-30</td>\n",
       "      <td>POS W/D SNAPPER SERVI-17:15 ;</td>\n",
       "      <td>10.0</td>\n",
       "      <td>116.96</td>\n",
       "      <td>1564444800000000000</td>\n",
       "    </tr>\n",
       "  </tbody>\n",
       "</table>\n",
       "</div>"
      ],
      "text/plain": [
       "          Date                Memo/Description  Cost  Balance  \\\n",
       "441 2020-10-05  TRADEME O361 PING Wellington ;  10.0    10.29   \n",
       "371 2020-02-26   POS W/D SNAPPER SERVI-15:39 ;  10.0    10.00   \n",
       "161 2019-09-14   POS W/D SNAPPER SERVI-17:06 ;  10.0     0.11   \n",
       "63  2019-05-07   POS W/D SNAPPER SERVI-08:57 ;  10.0    23.13   \n",
       "133 2019-08-13   POS W/D SNAPPER SERVI-15:43 ;  10.0    47.39   \n",
       "196 2019-10-22   POS W/D SNAPPER SERVI-20:48 ;  10.0   165.75   \n",
       "110 2019-07-30   POS W/D SNAPPER SERVI-17:15 ;  10.0   116.96   \n",
       "\n",
       "                Date_int  \n",
       "441  1601856000000000000  \n",
       "371  1582675200000000000  \n",
       "161  1568419200000000000  \n",
       "63   1557187200000000000  \n",
       "133  1565654400000000000  \n",
       "196  1571702400000000000  \n",
       "110  1564444800000000000  "
      ]
     },
     "execution_count": 5,
     "metadata": {},
     "output_type": "execute_result"
    }
   ],
   "source": [
    "print(f\"Median cost: ${spending_df['Cost'].median()}\")\n",
    "print(f\"Mean cost: ${spending_df['Cost'].mean()}\")\n",
    "print(f\"Mode cost: ${spending_df['Cost'].mode()[0]}\")\n",
    "\n",
    "print(\"Some $10.00 transactions:\")\n",
    "spending_df[spending_df['Cost'] == 10.00].sample(7)"
   ]
  },
  {
   "cell_type": "code",
   "execution_count": 6,
   "metadata": {},
   "outputs": [
    {
     "name": "stdout",
     "output_type": "stream",
     "text": [
      "Average balance after purchase: $51.706468401486994\n"
     ]
    }
   ],
   "source": [
    "print(f\"Average balance after purchase: ${spending_df['Balance'].mean()}\")"
   ]
  },
  {
   "cell_type": "code",
   "execution_count": 7,
   "metadata": {},
   "outputs": [
    {
     "name": "stdout",
     "output_type": "stream",
     "text": [
      "Total spent: $3852.03\n"
     ]
    }
   ],
   "source": [
    "print(f\"Total spent: ${spending_df['Cost'].sum()}\")"
   ]
  },
  {
   "cell_type": "code",
   "execution_count": 8,
   "metadata": {},
   "outputs": [
    {
     "name": "stdout",
     "output_type": "stream",
     "text": [
      "Total of all sub-$20 costs: $1515.3899999999999\n"
     ]
    }
   ],
   "source": [
    "cutoff = 20\n",
    "print(f\"Total of all sub-${cutoff} costs: ${spending_df[spending_df['Cost'] < cutoff]['Cost'].sum()}\")"
   ]
  },
  {
   "cell_type": "code",
   "execution_count": 9,
   "metadata": {},
   "outputs": [
    {
     "data": {
      "text/plain": [
       "<matplotlib.axes._subplots.AxesSubplot at 0x7f4b6f26a2b0>"
      ]
     },
     "execution_count": 9,
     "metadata": {},
     "output_type": "execute_result"
    }
   ],
   "source": [
    "weekdays = [(0,'Mon'), (1,'Tues'), (2,'Wens'), (3,'Thurs'), (4,'Fri'), (5,'Sat'), (6,'Sun')]\n",
    "def set_weekday(s):\n",
    "    s['Weekday'] = weekdays[s['Date'].dayofweek]\n",
    "    return s\n",
    "\n",
    "spending_df['Weekday'] = 0\n",
    "spending_df = spending_df.apply(set_weekday, axis=1)\n",
    "spending_df.boxplot(column='Cost', by='Weekday', fontsize=14, grid=False, rot=45, figsize=(10,6), showfliers=False)"
   ]
  },
  {
   "cell_type": "code",
   "execution_count": 10,
   "metadata": {},
   "outputs": [
    {
     "data": {
      "text/plain": [
       "<matplotlib.axes._subplots.AxesSubplot at 0x7f4b6c0bc8d0>"
      ]
     },
     "execution_count": 10,
     "metadata": {},
     "output_type": "execute_result"
    },
    {
     "data": {
      "image/png": "[encoded data removed]",
      "text/plain": [
       "<Figure size 432x288 with 1 Axes>"
      ]
     },
     "metadata": {
      "needs_background": "light"
     },
     "output_type": "display_data"
    }
   ],
   "source": [
    "import re\n",
    "def pull_decimal_timestamp(desc):\n",
    "    possible_timestamp = desc[-7:]\n",
    "    if re.search('\\d\\d\\:\\d\\d', possible_timestamp) == None:\n",
    "        return None\n",
    "    hours = int(possible_timestamp[:2])\n",
    "    mins = int(possible_timestamp[3:5])\n",
    "    \n",
    "    hours_decimal = hours + (mins / 60)\n",
    "    return hours_decimal\n",
    "\n",
    "def apply_pull_decimal_timestamp(ser):\n",
    "    return ser.apply(pull_decimal_timestamp)\n",
    "\n",
    "\n",
    "spending_df =  spending_df.assign(Time_decimal=lambda df: apply_pull_decimal_timestamp(df['Memo/Description']))\n",
    "spending_df.plot.scatter(x='Time_decimal', y='Cost')\n"
   ]
  },
  {
   "cell_type": "code",
   "execution_count": 11,
   "metadata": {},
   "outputs": [
    {
     "name": "stdout",
     "output_type": "stream",
     "text": [
      "               Cost      Balance\n",
      "Cost     562.538886    63.007303\n",
      "Balance   63.007303  8230.170957\n",
      "\n",
      "             Cost   Balance\n",
      "Cost     1.000000  0.029283\n",
      "Balance  0.029283  1.000000\n",
      "\n"
     ]
    },
    {
     "data": {
      "text/plain": [
       "<matplotlib.axes._subplots.AxesSubplot at 0x7f4ba3a9ea58>"
      ]
     },
     "execution_count": 11,
     "metadata": {},
     "output_type": "execute_result"
    },
    {
     "data": {
      "image/png": "[encoded data removed]",
      "text/plain": [
       "<Figure size 432x288 with 1 Axes>"
      ]
     },
     "metadata": {
      "needs_background": "light"
     },
     "output_type": "display_data"
    }
   ],
   "source": [
    "print(spending_df[['Cost', 'Balance']].cov())\n",
    "print()\n",
    "print(spending_df[['Cost', 'Balance']].corr())\n",
    "print()\n",
    "spending_df.plot.scatter(x='Balance', y='Cost')"
   ]
  },
  {
   "cell_type": "code",
   "execution_count": 79,
   "metadata": {},
   "outputs": [
    {
     "data": {
      "text/plain": [
       "<matplotlib.axes._subplots.AxesSubplot at 0x7f4b69752ef0>"
      ]
     },
     "execution_count": 79,
     "metadata": {},
     "output_type": "execute_result"
    },
    {
     "data": {
      "image/png": "[encoded data removed]",
      "text/plain": [
       "<Figure size 720x432 with 1 Axes>"
      ]
     },
     "metadata": {
      "needs_background": "light"
     },
     "output_type": "display_data"
    }
   ],
   "source": [
    "day_spend = spending_df[['Date', 'Cost']].groupby(by='Date')\n",
    "#print(day_spend['Cost'].count()['2019-01-11'])\n",
    "#print(day_spend['Cost'].sum()['2019-01-11'])\n",
    "#print(spending_df[spending_df['Date'] == '2019-01-11']['Cost'].sum())\n",
    "\n",
    "day_spend_df = pd.DataFrame(\n",
    "    {'Cost': day_spend['Cost'].sum(),\n",
    "     'Transaction_n':day_spend['Cost'].count()})\n",
    "\n",
    "day_spend_df.boxplot(by='Transaction_n', column='Cost', figsize=(10,6), showfliers=False)"
   ]
  },
  {
   "cell_type": "code",
   "execution_count": null,
   "metadata": {},
   "outputs": [],
   "source": []
  }
 ],
 "metadata": {
  "kernelspec": {
   "display_name": "Python 3",
   "language": "python",
   "name": "python3"
  },
  "language_info": {
   "codemirror_mode": {
    "name": "ipython",
    "version": 3
   },
   "file_extension": ".py",
   "mimetype": "text/x-python",
   "name": "python",
   "nbconvert_exporter": "python",
   "pygments_lexer": "ipython3",
   "version": "3.6.9"
  }
 },
 "nbformat": 4,
 "nbformat_minor": 2
}
