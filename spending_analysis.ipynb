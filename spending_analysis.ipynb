{
 "cells": [
  {
   "cell_type": "code",
   "execution_count": 69,
   "metadata": {},
   "outputs": [],
   "source": [
    "import pandas as pd\n",
    "import numpy as np\n",
    "from datetime import timedelta, date, datetime\n",
    "\n",
    "## my personal bank statments, exported as a csv and stored locally on my machine\n",
    "spending_df = pd.read_csv('~/datasets/bank/spending_17May.CSV')#.set_index('Date')\n"
   ]
  },
  {
   "cell_type": "code",
   "execution_count": 70,
   "metadata": {},
   "outputs": [],
   "source": [
    "\"\"\" Clean up df \"\"\"\n",
    "\n",
    "# remove transactions between my own bank accounts\n",
    "spending_df = spending_df[spending_df['OP name'] != 'J D SHEA']\n",
    "# remove deposits etc\n",
    "spending_df = spending_df[spending_df['Amount'] < 0]\n",
    "\n",
    "# make date in datetime format\n",
    "spending_df['Date'] = pd.to_datetime(spending_df['Date'])\n",
    "\n",
    "# flip amount col\n",
    "spending_df['Cost'] = -spending_df['Amount']\n",
    "# grab cols we care about\n",
    "spending_df = spending_df[['Date', 'Memo/Description', 'Cost', 'Balance']]\n",
    "\n",
    "# add date as integer col\n",
    "spending_df['Date_int'] = spending_df['Date'].astype(np.int64)\n",
    "\n",
    "                          "
   ]
  },
  {
   "cell_type": "code",
   "execution_count": 79,
   "metadata": {},
   "outputs": [
    {
     "name": "stdout",
     "output_type": "stream",
     "text": [
      "1345\n"
     ]
    },
    {
     "data": {
      "text/html": [
       "<div>\n",
       "<style scoped>\n",
       "    .dataframe tbody tr th:only-of-type {\n",
       "        vertical-align: middle;\n",
       "    }\n",
       "\n",
       "    .dataframe tbody tr th {\n",
       "        vertical-align: top;\n",
       "    }\n",
       "\n",
       "    .dataframe thead th {\n",
       "        text-align: right;\n",
       "    }\n",
       "</style>\n",
       "<table border=\"1\" class=\"dataframe\">\n",
       "  <thead>\n",
       "    <tr style=\"text-align: right;\">\n",
       "      <th></th>\n",
       "      <th>Date</th>\n",
       "      <th>Memo/Description</th>\n",
       "      <th>Cost</th>\n",
       "      <th>Balance</th>\n",
       "      <th>Date_int</th>\n",
       "    </tr>\n",
       "  </thead>\n",
       "  <tbody>\n",
       "    <tr>\n",
       "      <th>444</th>\n",
       "      <td>2020-05-13</td>\n",
       "      <td>POS W/D CRAIG'S CHEMI-12:28 ;</td>\n",
       "      <td>27.99</td>\n",
       "      <td>12.30</td>\n",
       "      <td>1589328000000000000</td>\n",
       "    </tr>\n",
       "    <tr>\n",
       "      <th>272</th>\n",
       "      <td>2019-12-13</td>\n",
       "      <td>POS W/D Seatoun Medic-10:00 ;</td>\n",
       "      <td>149.00</td>\n",
       "      <td>1.30</td>\n",
       "      <td>1576195200000000000</td>\n",
       "    </tr>\n",
       "    <tr>\n",
       "      <th>365</th>\n",
       "      <td>2020-02-24</td>\n",
       "      <td>POS W/D The Warehouse-13:50 ;</td>\n",
       "      <td>6.00</td>\n",
       "      <td>11.00</td>\n",
       "      <td>1582502400000000000</td>\n",
       "    </tr>\n",
       "    <tr>\n",
       "      <th>328</th>\n",
       "      <td>2020-01-02</td>\n",
       "      <td>FOUR SQUARE MARTINBORO MARTINBOROUGH ;</td>\n",
       "      <td>2.40</td>\n",
       "      <td>0.10</td>\n",
       "      <td>1577923200000000000</td>\n",
       "    </tr>\n",
       "    <tr>\n",
       "      <th>55</th>\n",
       "      <td>2019-01-07</td>\n",
       "      <td>POS W/D MOORE WILSONS-13:38 ;</td>\n",
       "      <td>7.00</td>\n",
       "      <td>0.13</td>\n",
       "      <td>1546819200000000000</td>\n",
       "    </tr>\n",
       "  </tbody>\n",
       "</table>\n",
       "</div>"
      ],
      "text/plain": [
       "          Date                        Memo/Description    Cost  Balance  \\\n",
       "444 2020-05-13           POS W/D CRAIG'S CHEMI-12:28 ;   27.99    12.30   \n",
       "272 2019-12-13           POS W/D Seatoun Medic-10:00 ;  149.00     1.30   \n",
       "365 2020-02-24           POS W/D The Warehouse-13:50 ;    6.00    11.00   \n",
       "328 2020-01-02  FOUR SQUARE MARTINBORO MARTINBOROUGH ;    2.40     0.10   \n",
       "55  2019-01-07           POS W/D MOORE WILSONS-13:38 ;    7.00     0.13   \n",
       "\n",
       "                Date_int  \n",
       "444  1589328000000000000  \n",
       "272  1576195200000000000  \n",
       "365  1582502400000000000  \n",
       "328  1577923200000000000  \n",
       "55   1546819200000000000  "
      ]
     },
     "execution_count": 79,
     "metadata": {},
     "output_type": "execute_result"
    }
   ],
   "source": [
    "print(spending_df.size)\n",
    "spending_df.sample(5)"
   ]
  },
  {
   "cell_type": "code",
   "execution_count": 80,
   "metadata": {},
   "outputs": [
    {
     "name": "stdout",
     "output_type": "stream",
     "text": [
      "Median cost: $7.5\n",
      "Mean cost: $14.319814126394053\n",
      "Mode cost: $10.0\n",
      "Some $10.00 transactions:\n"
     ]
    },
    {
     "data": {
      "text/html": [
       "<div>\n",
       "<style scoped>\n",
       "    .dataframe tbody tr th:only-of-type {\n",
       "        vertical-align: middle;\n",
       "    }\n",
       "\n",
       "    .dataframe tbody tr th {\n",
       "        vertical-align: top;\n",
       "    }\n",
       "\n",
       "    .dataframe thead th {\n",
       "        text-align: right;\n",
       "    }\n",
       "</style>\n",
       "<table border=\"1\" class=\"dataframe\">\n",
       "  <thead>\n",
       "    <tr style=\"text-align: right;\">\n",
       "      <th></th>\n",
       "      <th>Date</th>\n",
       "      <th>Memo/Description</th>\n",
       "      <th>Cost</th>\n",
       "      <th>Balance</th>\n",
       "      <th>Date_int</th>\n",
       "    </tr>\n",
       "  </thead>\n",
       "  <tbody>\n",
       "    <tr>\n",
       "      <th>45</th>\n",
       "      <td>2019-06-16</td>\n",
       "      <td>WAREHOUSE MOBILE NEWMARKET ;</td>\n",
       "      <td>10.0</td>\n",
       "      <td>1.63</td>\n",
       "      <td>1560643200000000000</td>\n",
       "    </tr>\n",
       "    <tr>\n",
       "      <th>131</th>\n",
       "      <td>2019-08-08</td>\n",
       "      <td>TOMMY MILLIONS WELLINGTON ;</td>\n",
       "      <td>10.0</td>\n",
       "      <td>61.69</td>\n",
       "      <td>1565222400000000000</td>\n",
       "    </tr>\n",
       "    <tr>\n",
       "      <th>16</th>\n",
       "      <td>2019-05-30</td>\n",
       "      <td>TOMMY MILLIONS WELLINGTON ;</td>\n",
       "      <td>10.0</td>\n",
       "      <td>20.82</td>\n",
       "      <td>1559174400000000000</td>\n",
       "    </tr>\n",
       "    <tr>\n",
       "      <th>196</th>\n",
       "      <td>2019-10-22</td>\n",
       "      <td>POS W/D SNAPPER SERVI-20:48 ;</td>\n",
       "      <td>10.0</td>\n",
       "      <td>165.75</td>\n",
       "      <td>1571702400000000000</td>\n",
       "    </tr>\n",
       "    <tr>\n",
       "      <th>110</th>\n",
       "      <td>2019-07-30</td>\n",
       "      <td>POS W/D SNAPPER SERVI-17:15 ;</td>\n",
       "      <td>10.0</td>\n",
       "      <td>116.96</td>\n",
       "      <td>1564444800000000000</td>\n",
       "    </tr>\n",
       "    <tr>\n",
       "      <th>441</th>\n",
       "      <td>2020-10-05</td>\n",
       "      <td>TRADEME O361 PING Wellington ;</td>\n",
       "      <td>10.0</td>\n",
       "      <td>10.29</td>\n",
       "      <td>1601856000000000000</td>\n",
       "    </tr>\n",
       "    <tr>\n",
       "      <th>97</th>\n",
       "      <td>2019-07-17</td>\n",
       "      <td>WAREHOUSE MOBILE NEWMARKET ;</td>\n",
       "      <td>10.0</td>\n",
       "      <td>312.05</td>\n",
       "      <td>1563321600000000000</td>\n",
       "    </tr>\n",
       "    <tr>\n",
       "      <th>391</th>\n",
       "      <td>2020-11-03</td>\n",
       "      <td>VisaDebitAnnualFee *5206 ;</td>\n",
       "      <td>10.0</td>\n",
       "      <td>2.51</td>\n",
       "      <td>1604361600000000000</td>\n",
       "    </tr>\n",
       "    <tr>\n",
       "      <th>371</th>\n",
       "      <td>2020-02-26</td>\n",
       "      <td>POS W/D SNAPPER SERVI-15:39 ;</td>\n",
       "      <td>10.0</td>\n",
       "      <td>10.00</td>\n",
       "      <td>1582675200000000000</td>\n",
       "    </tr>\n",
       "    <tr>\n",
       "      <th>122</th>\n",
       "      <td>2019-02-08</td>\n",
       "      <td>TOMMY MILLIONS WELLINGTON ;</td>\n",
       "      <td>10.0</td>\n",
       "      <td>10.77</td>\n",
       "      <td>1549584000000000000</td>\n",
       "    </tr>\n",
       "  </tbody>\n",
       "</table>\n",
       "</div>"
      ],
      "text/plain": [
       "          Date                Memo/Description  Cost  Balance  \\\n",
       "45  2019-06-16    WAREHOUSE MOBILE NEWMARKET ;  10.0     1.63   \n",
       "131 2019-08-08     TOMMY MILLIONS WELLINGTON ;  10.0    61.69   \n",
       "16  2019-05-30     TOMMY MILLIONS WELLINGTON ;  10.0    20.82   \n",
       "196 2019-10-22   POS W/D SNAPPER SERVI-20:48 ;  10.0   165.75   \n",
       "110 2019-07-30   POS W/D SNAPPER SERVI-17:15 ;  10.0   116.96   \n",
       "441 2020-10-05  TRADEME O361 PING Wellington ;  10.0    10.29   \n",
       "97  2019-07-17    WAREHOUSE MOBILE NEWMARKET ;  10.0   312.05   \n",
       "391 2020-11-03      VisaDebitAnnualFee *5206 ;  10.0     2.51   \n",
       "371 2020-02-26   POS W/D SNAPPER SERVI-15:39 ;  10.0    10.00   \n",
       "122 2019-02-08     TOMMY MILLIONS WELLINGTON ;  10.0    10.77   \n",
       "\n",
       "                Date_int  \n",
       "45   1560643200000000000  \n",
       "131  1565222400000000000  \n",
       "16   1559174400000000000  \n",
       "196  1571702400000000000  \n",
       "110  1564444800000000000  \n",
       "441  1601856000000000000  \n",
       "97   1563321600000000000  \n",
       "391  1604361600000000000  \n",
       "371  1582675200000000000  \n",
       "122  1549584000000000000  "
      ]
     },
     "execution_count": 80,
     "metadata": {},
     "output_type": "execute_result"
    }
   ],
   "source": [
    "print(f\"Median cost: ${spending_df['Cost'].median()}\")\n",
    "print(f\"Mean cost: ${spending_df['Cost'].mean()}\")\n",
    "print(f\"Mode cost: ${spending_df['Cost'].mode()[0]}\")\n",
    "\n",
    "print(\"Some $10.00 transactions:\")\n",
    "spending_df[spending_df['Cost'] == 10.00].sample(10)"
   ]
  },
  {
   "cell_type": "code",
   "execution_count": 81,
   "metadata": {},
   "outputs": [
    {
     "name": "stdout",
     "output_type": "stream",
     "text": [
      "Average balance after purchase: $51.706468401486994\n"
     ]
    }
   ],
   "source": [
    "print(f\"Average balance after purchase: ${spending_df['Balance'].mean()}\")"
   ]
  },
  {
   "cell_type": "code",
   "execution_count": 83,
   "metadata": {},
   "outputs": [
    {
     "name": "stdout",
     "output_type": "stream",
     "text": [
      "Total spent: $3852.03\n"
     ]
    }
   ],
   "source": [
    "print(f\"Total spent: ${spending_df['Cost'].sum()}\")"
   ]
  },
  {
   "cell_type": "code",
   "execution_count": 97,
   "metadata": {},
   "outputs": [
    {
     "name": "stdout",
     "output_type": "stream",
     "text": [
      "Total of all sub-$50 costs: $2308.8999999999996\n"
     ]
    }
   ],
   "source": [
    "print(f\"Total of all sub-$50 costs: ${spending_df[spending_df['Cost'] < 50]['Cost'].sum()}\")"
   ]
  },
  {
   "cell_type": "code",
   "execution_count": null,
   "metadata": {},
   "outputs": [],
   "source": []
  }
 ],
 "metadata": {
  "kernelspec": {
   "display_name": "Python 3",
   "language": "python",
   "name": "python3"
  },
  "language_info": {
   "codemirror_mode": {
    "name": "ipython",
    "version": 3
   },
   "file_extension": ".py",
   "mimetype": "text/x-python",
   "name": "python",
   "nbconvert_exporter": "python",
   "pygments_lexer": "ipython3",
   "version": "3.6.9"
  }
 },
 "nbformat": 4,
 "nbformat_minor": 2
}
