{
 "cells": [
  {
   "cell_type": "code",
   "execution_count": 36,
   "metadata": {},
   "outputs": [],
   "source": [
    "import pandas as pd\n",
    "import numpy as np\n",
    "from datetime import timedelta, date, datetime\n",
    "\n",
    "## my personal bank statments, exported as a csv and stored locally on my machine\n",
    "spending_df = pd.read_csv('~/datasets/bank/spending_17May.CSV')\n"
   ]
  },
  {
   "cell_type": "code",
   "execution_count": 37,
   "metadata": {},
   "outputs": [],
   "source": [
    "\"\"\" Clean up df \"\"\"\n",
    "\n",
    "# remove transactions between my own bank accounts\n",
    "spending_df = spending_df[spending_df['OP name'] != 'J D SHEA']\n",
    "# remove deposits etc\n",
    "spending_df = spending_df[spending_df['Amount'] < 0]\n",
    "\n",
    "# make date in datetime format\n",
    "spending_df['Date'] = pd.to_datetime(spending_df['Date'])\n",
    "\n",
    "# flip amount col\n",
    "spending_df['Cost'] = -spending_df['Amount']\n",
    "# grab cols we care about\n",
    "spending_df = spending_df[['Date', 'Memo/Description', 'Cost', 'Balance']]\n",
    "\n",
    "# add date as integer col\n",
    "spending_df['Date_int'] = spending_df['Date'].astype(np.int64)\n",
    "\n",
    "                          "
   ]
  },
  {
   "cell_type": "code",
   "execution_count": 38,
   "metadata": {},
   "outputs": [
    {
     "name": "stdout",
     "output_type": "stream",
     "text": [
      "1345\n"
     ]
    },
    {
     "data": {
      "text/html": [
       "<div>\n",
       "<style scoped>\n",
       "    .dataframe tbody tr th:only-of-type {\n",
       "        vertical-align: middle;\n",
       "    }\n",
       "\n",
       "    .dataframe tbody tr th {\n",
       "        vertical-align: top;\n",
       "    }\n",
       "\n",
       "    .dataframe thead th {\n",
       "        text-align: right;\n",
       "    }\n",
       "</style>\n",
       "<table border=\"1\" class=\"dataframe\">\n",
       "  <thead>\n",
       "    <tr style=\"text-align: right;\">\n",
       "      <th></th>\n",
       "      <th>Date</th>\n",
       "      <th>Memo/Description</th>\n",
       "      <th>Cost</th>\n",
       "      <th>Balance</th>\n",
       "      <th>Date_int</th>\n",
       "    </tr>\n",
       "  </thead>\n",
       "  <tbody>\n",
       "    <tr>\n",
       "      <th>193</th>\n",
       "      <td>2019-10-19</td>\n",
       "      <td>POS W/D THE OAKS SATA-19:57 ;</td>\n",
       "      <td>38.20</td>\n",
       "      <td>191.75</td>\n",
       "      <td>1571443200000000000</td>\n",
       "    </tr>\n",
       "    <tr>\n",
       "      <th>223</th>\n",
       "      <td>2019-12-11</td>\n",
       "      <td>ST PIERRE'S NEWTOWN WELLINGTON ;</td>\n",
       "      <td>7.00</td>\n",
       "      <td>12.16</td>\n",
       "      <td>1576022400000000000</td>\n",
       "    </tr>\n",
       "    <tr>\n",
       "      <th>371</th>\n",
       "      <td>2020-02-26</td>\n",
       "      <td>POS W/D SNAPPER SERVI-15:39 ;</td>\n",
       "      <td>10.00</td>\n",
       "      <td>10.00</td>\n",
       "      <td>1582675200000000000</td>\n",
       "    </tr>\n",
       "    <tr>\n",
       "      <th>82</th>\n",
       "      <td>2019-07-13</td>\n",
       "      <td>COUNTDOWN KILBIRNIE WELLINGTON ;</td>\n",
       "      <td>11.79</td>\n",
       "      <td>26.56</td>\n",
       "      <td>1562976000000000000</td>\n",
       "    </tr>\n",
       "    <tr>\n",
       "      <th>78</th>\n",
       "      <td>2019-12-07</td>\n",
       "      <td>POS W/D MAVIS LOUNGE -13:24 ;</td>\n",
       "      <td>4.50</td>\n",
       "      <td>48.76</td>\n",
       "      <td>1575676800000000000</td>\n",
       "    </tr>\n",
       "  </tbody>\n",
       "</table>\n",
       "</div>"
      ],
      "text/plain": [
       "          Date                  Memo/Description   Cost  Balance  \\\n",
       "193 2019-10-19     POS W/D THE OAKS SATA-19:57 ;  38.20   191.75   \n",
       "223 2019-12-11  ST PIERRE'S NEWTOWN WELLINGTON ;   7.00    12.16   \n",
       "371 2020-02-26     POS W/D SNAPPER SERVI-15:39 ;  10.00    10.00   \n",
       "82  2019-07-13  COUNTDOWN KILBIRNIE WELLINGTON ;  11.79    26.56   \n",
       "78  2019-12-07     POS W/D MAVIS LOUNGE -13:24 ;   4.50    48.76   \n",
       "\n",
       "                Date_int  \n",
       "193  1571443200000000000  \n",
       "223  1576022400000000000  \n",
       "371  1582675200000000000  \n",
       "82   1562976000000000000  \n",
       "78   1575676800000000000  "
      ]
     },
     "execution_count": 38,
     "metadata": {},
     "output_type": "execute_result"
    }
   ],
   "source": [
    "print(spending_df.size)\n",
    "spending_df.sample(5)"
   ]
  },
  {
   "cell_type": "code",
   "execution_count": 39,
   "metadata": {
    "scrolled": true
   },
   "outputs": [
    {
     "name": "stdout",
     "output_type": "stream",
     "text": [
      "Median cost: $7.5\n",
      "Mean cost: $14.319814126394053\n",
      "Mode cost: $10.0\n",
      "Some $10.00 transactions:\n"
     ]
    },
    {
     "data": {
      "text/html": [
       "<div>\n",
       "<style scoped>\n",
       "    .dataframe tbody tr th:only-of-type {\n",
       "        vertical-align: middle;\n",
       "    }\n",
       "\n",
       "    .dataframe tbody tr th {\n",
       "        vertical-align: top;\n",
       "    }\n",
       "\n",
       "    .dataframe thead th {\n",
       "        text-align: right;\n",
       "    }\n",
       "</style>\n",
       "<table border=\"1\" class=\"dataframe\">\n",
       "  <thead>\n",
       "    <tr style=\"text-align: right;\">\n",
       "      <th></th>\n",
       "      <th>Date</th>\n",
       "      <th>Memo/Description</th>\n",
       "      <th>Cost</th>\n",
       "      <th>Balance</th>\n",
       "      <th>Date_int</th>\n",
       "    </tr>\n",
       "  </thead>\n",
       "  <tbody>\n",
       "    <tr>\n",
       "      <th>47</th>\n",
       "      <td>2019-06-18</td>\n",
       "      <td>TOMMY MILLIONS WELLINGTON ;</td>\n",
       "      <td>10.0</td>\n",
       "      <td>0.63</td>\n",
       "      <td>1560816000000000000</td>\n",
       "    </tr>\n",
       "    <tr>\n",
       "      <th>133</th>\n",
       "      <td>2019-08-13</td>\n",
       "      <td>POS W/D SNAPPER SERVI-15:43 ;</td>\n",
       "      <td>10.0</td>\n",
       "      <td>47.39</td>\n",
       "      <td>1565654400000000000</td>\n",
       "    </tr>\n",
       "    <tr>\n",
       "      <th>63</th>\n",
       "      <td>2019-05-07</td>\n",
       "      <td>POS W/D SNAPPER SERVI-08:57 ;</td>\n",
       "      <td>10.0</td>\n",
       "      <td>23.13</td>\n",
       "      <td>1557187200000000000</td>\n",
       "    </tr>\n",
       "    <tr>\n",
       "      <th>441</th>\n",
       "      <td>2020-10-05</td>\n",
       "      <td>TRADEME O361 PING Wellington ;</td>\n",
       "      <td>10.0</td>\n",
       "      <td>10.29</td>\n",
       "      <td>1601856000000000000</td>\n",
       "    </tr>\n",
       "    <tr>\n",
       "      <th>110</th>\n",
       "      <td>2019-07-30</td>\n",
       "      <td>POS W/D SNAPPER SERVI-17:15 ;</td>\n",
       "      <td>10.0</td>\n",
       "      <td>116.96</td>\n",
       "      <td>1564444800000000000</td>\n",
       "    </tr>\n",
       "    <tr>\n",
       "      <th>391</th>\n",
       "      <td>2020-11-03</td>\n",
       "      <td>VisaDebitAnnualFee *5206 ;</td>\n",
       "      <td>10.0</td>\n",
       "      <td>2.51</td>\n",
       "      <td>1604361600000000000</td>\n",
       "    </tr>\n",
       "    <tr>\n",
       "      <th>97</th>\n",
       "      <td>2019-07-17</td>\n",
       "      <td>WAREHOUSE MOBILE NEWMARKET ;</td>\n",
       "      <td>10.0</td>\n",
       "      <td>312.05</td>\n",
       "      <td>1563321600000000000</td>\n",
       "    </tr>\n",
       "  </tbody>\n",
       "</table>\n",
       "</div>"
      ],
      "text/plain": [
       "          Date                Memo/Description  Cost  Balance  \\\n",
       "47  2019-06-18     TOMMY MILLIONS WELLINGTON ;  10.0     0.63   \n",
       "133 2019-08-13   POS W/D SNAPPER SERVI-15:43 ;  10.0    47.39   \n",
       "63  2019-05-07   POS W/D SNAPPER SERVI-08:57 ;  10.0    23.13   \n",
       "441 2020-10-05  TRADEME O361 PING Wellington ;  10.0    10.29   \n",
       "110 2019-07-30   POS W/D SNAPPER SERVI-17:15 ;  10.0   116.96   \n",
       "391 2020-11-03      VisaDebitAnnualFee *5206 ;  10.0     2.51   \n",
       "97  2019-07-17    WAREHOUSE MOBILE NEWMARKET ;  10.0   312.05   \n",
       "\n",
       "                Date_int  \n",
       "47   1560816000000000000  \n",
       "133  1565654400000000000  \n",
       "63   1557187200000000000  \n",
       "441  1601856000000000000  \n",
       "110  1564444800000000000  \n",
       "391  1604361600000000000  \n",
       "97   1563321600000000000  "
      ]
     },
     "execution_count": 39,
     "metadata": {},
     "output_type": "execute_result"
    }
   ],
   "source": [
    "print(f\"Median cost: ${spending_df['Cost'].median()}\")\n",
    "print(f\"Mean cost: ${spending_df['Cost'].mean()}\")\n",
    "print(f\"Mode cost: ${spending_df['Cost'].mode()[0]}\")\n",
    "\n",
    "print(\"Some $10.00 transactions:\")\n",
    "spending_df[spending_df['Cost'] == 10.00].sample(7)"
   ]
  },
  {
   "cell_type": "code",
   "execution_count": 40,
   "metadata": {},
   "outputs": [
    {
     "name": "stdout",
     "output_type": "stream",
     "text": [
      "Average balance after purchase: $51.706468401486994\n"
     ]
    }
   ],
   "source": [
    "print(f\"Average balance after purchase: ${spending_df['Balance'].mean()}\")"
   ]
  },
  {
   "cell_type": "code",
   "execution_count": 41,
   "metadata": {},
   "outputs": [
    {
     "name": "stdout",
     "output_type": "stream",
     "text": [
      "Total spent: $3852.03\n"
     ]
    }
   ],
   "source": [
    "print(f\"Total spent: ${spending_df['Cost'].sum()}\")"
   ]
  },
  {
   "cell_type": "code",
   "execution_count": 42,
   "metadata": {},
   "outputs": [
    {
     "name": "stdout",
     "output_type": "stream",
     "text": [
      "Total of all sub-$20 costs: $1515.3899999999999\n"
     ]
    }
   ],
   "source": [
    "cutoff = 20\n",
    "print(f\"Total of all sub-${cutoff} costs: ${spending_df[spending_df['Cost'] < cutoff]['Cost'].sum()}\")"
   ]
  },
  {
   "cell_type": "code",
   "execution_count": 43,
   "metadata": {},
   "outputs": [
    {
     "data": {
      "text/plain": [
       "<matplotlib.axes._subplots.AxesSubplot at 0x7f670c6f4390>"
      ]
     },
     "execution_count": 43,
     "metadata": {},
     "output_type": "execute_result"
    },
    {
     "data": {
      "image/png": "[encoded data removed]",
      "text/plain": [
       "<Figure size 720x432 with 1 Axes>"
      ]
     },
     "metadata": {
      "needs_background": "light"
     },
     "output_type": "display_data"
    }
   ],
   "source": [
    "weekdays = [(0,'Mon'), (1,'Tues'), (2,'Wens'), (3,'Thurs'), (4,'Fri'), (5,'Sat'), (6,'Sun')]\n",
    "def set_weekday(s):\n",
    "    s['Weekday'] = weekdays[s['Date'].dayofweek]\n",
    "    return s\n",
    "\n",
    "spending_df['Weekday'] = 0\n",
    "spending_df = spending_df.apply(set_weekday, axis=1)\n",
    "spending_df.boxplot(column='Cost', by='Weekday', fontsize=14, grid=False, rot=45, figsize=(10,6), showfliers=False)"
   ]
  },
  {
   "cell_type": "code",
   "execution_count": 59,
   "metadata": {},
   "outputs": [
    {
     "data": {
      "text/plain": [
       "<matplotlib.axes._subplots.AxesSubplot at 0x7f670c53b128>"
      ]
     },
     "execution_count": 59,
     "metadata": {},
     "output_type": "execute_result"
    },
    {
     "data": {
      "image/png": "[encoded data removed]",
      "text/plain": [
       "<Figure size 432x288 with 1 Axes>"
      ]
     },
     "metadata": {
      "needs_background": "light"
     },
     "output_type": "display_data"
    }
   ],
   "source": [
    "import re\n",
    "def pull_decimal_timestamp(desc):\n",
    "    possible_timestamp = desc[-7:]\n",
    "    if re.search('\\d\\d\\:\\d\\d', possible_timestamp) == None:\n",
    "        return None\n",
    "    hours = int(possible_timestamp[:2])\n",
    "    mins = int(possible_timestamp[3:5])\n",
    "    \n",
    "    hours_decimal = hours + (mins / 60)\n",
    "    return hours_decimal\n",
    "\n",
    "def apply_pull_decimal_timestamp(ser):\n",
    "    return ser.apply(pull_decimal_timestamp)\n",
    "\n",
    "\n",
    "spending_df =  spending_df.assign(Time_decimal=lambda df: apply_pull_decimal_timestamp(df['Memo/Description']))\n",
    "spending_df.plot.scatter(x='Time_decimal', y='Cost')\n"
   ]
  },
  {
   "cell_type": "code",
   "execution_count": null,
   "metadata": {},
   "outputs": [],
   "source": []
  },
  {
   "cell_type": "code",
   "execution_count": null,
   "metadata": {},
   "outputs": [],
   "source": []
  }
 ],
 "metadata": {
  "kernelspec": {
   "display_name": "Python 3",
   "language": "python",
   "name": "python3"
  },
  "language_info": {
   "codemirror_mode": {
    "name": "ipython",
    "version": 3
   },
   "file_extension": ".py",
   "mimetype": "text/x-python",
   "name": "python",
   "nbconvert_exporter": "python",
   "pygments_lexer": "ipython3",
   "version": "3.6.9"
  }
 },
 "nbformat": 4,
 "nbformat_minor": 2
}
