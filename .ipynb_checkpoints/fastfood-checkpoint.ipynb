{
 "cells": [
  {
   "cell_type": "code",
   "execution_count": 1,
   "metadata": {},
   "outputs": [],
   "source": [
    "import pandas as pd\n",
    "from plotly.offline import iplot\n",
    "import plotly.graph_objs as go"
   ]
  },
  {
   "cell_type": "code",
   "execution_count": 2,
   "metadata": {},
   "outputs": [],
   "source": [
    "## Dataset link: https://www.kaggle.com/datafiniti/fast-food-restaurants\n",
    "df = pd.read_csv('data/FastFoodRestaurants.csv')"
   ]
  },
  {
   "cell_type": "code",
   "execution_count": 3,
   "metadata": {},
   "outputs": [],
   "source": [
    "def geo_graph_data(df):\n",
    "    lat = df['latitude']\n",
    "    long = df['longitude']\n",
    "    return [\n",
    "        {\n",
    "            'type': 'scattergeo',\n",
    "            'lat': lat,\n",
    "            'lon': long,\n",
    "            'mode': 'markers',\n",
    "            'marker': {\n",
    "                'size': 3,\n",
    "                'opacity': 0.9,\n",
    "                'symbol': 'cirlce',\n",
    "                'line': {\n",
    "                    'width': 0.5,\n",
    "                    'color': 'rgba(100, 100, 100)'\n",
    "                }\n",
    "            }\n",
    "        }\n",
    "    ]\n",
    "\n",
    "STD_GRAPH_LAYOUT = {\n",
    "    'colorbar': True,\n",
    "    'geo' : {\n",
    "        'scope': 'usa',\n",
    "        'projection': {'type': 'albers usa'},\n",
    "        'showland': True,\n",
    "        'landcolor': 'rgb(245, 245, 250)',\n",
    "        'subunitcolor': 'rgb(217, 217, 217)',\n",
    "        'countrycolor': 'rgb(217, 217, 217)',\n",
    "        'countrywidth': 0.5,\n",
    "        'subunitwidth': 0.5\n",
    "    }\n",
    "}\n",
    "    \n",
    "    "
   ]
  },
  {
   "cell_type": "code",
   "execution_count": 4,
   "metadata": {},
   "outputs": [],
   "source": [
    "mcd_df = df[df['name'] == \"McDonald's\"]\n",
    "\n",
    "mcd_graph_data = geo_graph_data(mcd_df)\n",
    "\n",
    "mcd_graph_layout = STD_GRAPH_LAYOUT\n",
    "mcd_graph_layout['title'] = 'McDonalds'\n",
    "\n",
    "mcd_graph_fig = {'data':mcd_graph_data, 'layout':mcd_graph_layout}\n",
    "#iplot(mcd_graph_fig, validate=False, filename='mcd_graph')\n"
   ]
  },
  {
   "cell_type": "code",
   "execution_count": 5,
   "metadata": {},
   "outputs": [],
   "source": [
    "mcd_df = df[df['name'] == \"McDonald's\"]\n",
    "bgk_df = df[df['name'] == \"Burger King\"]\n",
    "mcdbgk_graph_data =  geo_graph_data(mcd_df) + geo_graph_data(bgk_df)\n",
    "\n",
    "\n",
    "mcdbgk_graph_layout = STD_GRAPH_LAYOUT\n",
    "mcdbgk_graph_layout['title'] = 'McDonalds vs Burget King'\n",
    "\n",
    "mcdbgk_graph_fig = {'data':mcdbgk_graph_data, 'layout':mcdbgk_graph_layout}\n",
    "#iplot(mcdbgk_graph_fig, validate=False, filename='mcd_vs_bgk_graph')\n"
   ]
  },
  {
   "cell_type": "code",
   "execution_count": null,
   "metadata": {},
   "outputs": [],
   "source": [
    "import math\n",
    "def find_distance(origin_lat, origin_long, dest_lat, dest_long):\n",
    "    p = 0.017453292519943295 # pi / 180\n",
    "    a = 0.5 - math.cos((dest_lat - origin_lat) * p)/2 \\\n",
    "        + math.cos(origin_lat * p) \\\n",
    "        * math.cos(dest_lat * p) \\\n",
    "        * (1 - math.cos((dest_long - origin_long) * p)) / 2 \n",
    "    return 12742 * math.asin(math.sqrt(a))\n",
    "\n",
    "mcd_df = df.copy()[df['name'] == \"McDonald's\"]\n",
    "\n",
    "for i, mcd in mcd_df.iterrows()[0:5]:\n",
    "    for o_i, o_mcd in mcd_df.iterrows()[0:1]: # doesnt run\n",
    "        \n",
    "        if o_i == i:\n",
    "            dis = None\n",
    "        else:\n",
    "            dis = find_distance(\n",
    "                mcd['latitude'],\n",
    "                mcd['longitude'],\n",
    "                o_mcd['latitude'],\n",
    "                o_mcd['longitude']\n",
    "            )\n",
    "            \n",
    "        mcd[f'''dis_{o_mcd['keys']}'''] = dis\n",
    "    \n",
    "print(mcd_df.head())"
   ]
  },
  {
   "cell_type": "code",
   "execution_count": null,
   "metadata": {},
   "outputs": [],
   "source": []
  }
 ],
 "metadata": {
  "kernelspec": {
   "display_name": "Python 3",
   "language": "python",
   "name": "python3"
  },
  "language_info": {
   "codemirror_mode": {
    "name": "ipython",
    "version": 3
   },
   "file_extension": ".py",
   "mimetype": "text/x-python",
   "name": "python",
   "nbconvert_exporter": "python",
   "pygments_lexer": "ipython3",
   "version": "3.6.8"
  }
 },
 "nbformat": 4,
 "nbformat_minor": 2
}
