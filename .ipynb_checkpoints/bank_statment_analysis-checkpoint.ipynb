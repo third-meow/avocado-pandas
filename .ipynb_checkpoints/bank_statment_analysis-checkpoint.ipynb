{
 "cells": [
  {
   "cell_type": "code",
   "execution_count": 49,
   "metadata": {},
   "outputs": [],
   "source": [
    "import pandas as pd\n",
    "from datetime import timedelta, date\n",
    "\n",
    "## my personal bank statments, exported as a csv and stored locally on my machine\n",
    "spending_df = pd.read_csv('~/datasets/bank/spending_15Oct.CSV').set_index('Date')\n",
    "spending_df = spending_df.drop('Unnamed: 2', 1)\n",
    "saving_df = pd.read_csv('~/datasets/bank/saving_15Oct.CSV').set_index('Date')\n",
    "saving_df = saving_df.drop('Unnamed: 2', 1)"
   ]
  },
  {
   "cell_type": "code",
   "execution_count": 50,
   "metadata": {},
   "outputs": [
    {
     "name": "stdout",
     "output_type": "stream",
     "text": [
      "                                 Description  Delta  Balance\n",
      "Date                                                        \n",
      "18 Oct 2018    TRANSFER FROM J D SHEA - 02 ;   20.0    20.73\n",
      "18 Oct 2018    POS W/D FOUR SQUARE H-16:52 ;  -20.0     0.73\n",
      "19 Oct 2018    TRANSFER FROM J D SHEA - 02 ;    9.0     9.73\n",
      "19 Oct 2018  TWL 134 WELLINGTON WELLINGTON ;   -9.0     0.73\n",
      "26 Oct 2018    TRANSFER FROM J D SHEA - 02 ;   12.0    12.73\n",
      "\n",
      "                             Description  Delta  Balance\n",
      "Date                                                    \n",
      "18 Oct 2018  TRANSFER TO J D SHEA - 01 ;  -20.0   1872.3\n",
      "19 Oct 2018  TRANSFER TO J D SHEA - 01 ;   -9.0   1863.3\n",
      "26 Oct 2018  TRANSFER TO J D SHEA - 01 ;  -12.0   1851.3\n",
      "26 Oct 2018  TRANSFER TO J D SHEA - 01 ;   -3.0   1848.3\n",
      "31 Oct 2018            INTEREST CREDIT ;    2.0   1850.3\n"
     ]
    }
   ],
   "source": [
    "print(spending_df.head())\n",
    "print()\n",
    "print(saving_df.head())"
   ]
  },
  {
   "cell_type": "code",
   "execution_count": 51,
   "metadata": {},
   "outputs": [],
   "source": [
    "## taken from answer on stackoverflow\n",
    "## link: https://tinyurl.com/y2ufeqwe \n",
    "def daterange(start_date, end_date):\n",
    "    for n in range(int ((end_date - start_date).days)):\n",
    "        yield (start_date + timedelta(n)).strftime(\"%d %b %Y\")"
   ]
  },
  {
   "cell_type": "code",
   "execution_count": 60,
   "metadata": {},
   "outputs": [
    {
     "name": "stdout",
     "output_type": "stream",
     "text": [
      "18 Oct 2018    20.73\n",
      "18 Oct 2018     0.73\n",
      "Name: Balance, dtype: float64\n"
     ]
    }
   ],
   "source": [
    "print(spending_df['Balance']['18 Oct 2018'])"
   ]
  },
  {
   "cell_type": "code",
   "execution_count": 64,
   "metadata": {},
   "outputs": [
    {
     "ename": "NameError",
     "evalue": "name 'combined_balances' is not defined",
     "output_type": "error",
     "traceback": [
      "\u001b[0;31m---------------------------------------------------------------------------\u001b[0m",
      "\u001b[0;31mNameError\u001b[0m                                 Traceback (most recent call last)",
      "\u001b[0;32m<ipython-input-64-3b95d473efd2>\u001b[0m in \u001b[0;36m<module>\u001b[0;34m\u001b[0m\n\u001b[1;32m     26\u001b[0m     \u001b[0msaving_balances\u001b[0m\u001b[0;34m.\u001b[0m\u001b[0mappend\u001b[0m\u001b[0;34m(\u001b[0m\u001b[0;34m{\u001b[0m\u001b[0;34m'Date'\u001b[0m\u001b[0;34m:\u001b[0m \u001b[0mday\u001b[0m\u001b[0;34m,\u001b[0m \u001b[0;34m'Balance'\u001b[0m\u001b[0;34m:\u001b[0m \u001b[0msaving_closing_bal\u001b[0m\u001b[0;34m}\u001b[0m\u001b[0;34m)\u001b[0m\u001b[0;34m\u001b[0m\u001b[0;34m\u001b[0m\u001b[0m\n\u001b[1;32m     27\u001b[0m \u001b[0;34m\u001b[0m\u001b[0m\n\u001b[0;32m---> 28\u001b[0;31m \u001b[0mcombined_bal\u001b[0m \u001b[0;34m=\u001b[0m \u001b[0mpd\u001b[0m\u001b[0;34m.\u001b[0m\u001b[0mDataFrame\u001b[0m\u001b[0;34m(\u001b[0m\u001b[0mdata\u001b[0m\u001b[0;34m=\u001b[0m\u001b[0mcombined_balances\u001b[0m\u001b[0;34m)\u001b[0m\u001b[0;34m.\u001b[0m\u001b[0mset_index\u001b[0m\u001b[0;34m(\u001b[0m\u001b[0;34m'Date'\u001b[0m\u001b[0;34m)\u001b[0m\u001b[0;34m\u001b[0m\u001b[0;34m\u001b[0m\u001b[0m\n\u001b[0m\u001b[1;32m     29\u001b[0m \u001b[0msaving_bal\u001b[0m \u001b[0;34m=\u001b[0m \u001b[0mpd\u001b[0m\u001b[0;34m.\u001b[0m\u001b[0mDataFrame\u001b[0m\u001b[0;34m(\u001b[0m\u001b[0mdata\u001b[0m\u001b[0;34m=\u001b[0m\u001b[0msaving_balances\u001b[0m\u001b[0;34m)\u001b[0m\u001b[0;34m.\u001b[0m\u001b[0mset_index\u001b[0m\u001b[0;34m(\u001b[0m\u001b[0;34m'Date'\u001b[0m\u001b[0;34m)\u001b[0m\u001b[0;34m\u001b[0m\u001b[0;34m\u001b[0m\u001b[0m\n\u001b[1;32m     30\u001b[0m \u001b[0mspending_bal\u001b[0m \u001b[0;34m=\u001b[0m \u001b[0mpd\u001b[0m\u001b[0;34m.\u001b[0m\u001b[0mDataFrame\u001b[0m\u001b[0;34m(\u001b[0m\u001b[0mdata\u001b[0m\u001b[0;34m=\u001b[0m\u001b[0mspending_balances\u001b[0m\u001b[0;34m)\u001b[0m\u001b[0;34m.\u001b[0m\u001b[0mset_index\u001b[0m\u001b[0;34m(\u001b[0m\u001b[0;34m'Date'\u001b[0m\u001b[0;34m)\u001b[0m\u001b[0;34m\u001b[0m\u001b[0;34m\u001b[0m\u001b[0m\n",
      "\u001b[0;31mNameError\u001b[0m: name 'combined_balances' is not defined"
     ]
    }
   ],
   "source": [
    "last_spend_bal = 0\n",
    "spending_balances = []\n",
    "\n",
    "last_save_bal = 0\n",
    "saving_balances = []\n",
    "\n",
    "combined_balances = []\n",
    "\n",
    "for day in daterange(date(2018, 10, 15), date(2019, 10, 15)):\n",
    "    try:\n",
    "        last_save_bal = saving_df['Balance'][day][-1:].item()\n",
    "    except IndexError:    # occurs when only one transaction has occured that day\n",
    "        last_save_bal = saving_df['Balance'][day]\n",
    "    except KeyError:      # occures when no transations have occured that day\n",
    "        pass\n",
    "    \n",
    "    try:\n",
    "        last_spend_bal = spending_df['Balance'][day][-1:].item()\n",
    "    except IndexError:    # occurs when only one transaction has occured that day\n",
    "        last_spend_bal = spending_df['Balance'][day]\n",
    "    except KeyError:      # occures when no transations have occured that day\n",
    "        pass\n",
    "    \n",
    "    combined_balances.append({'Date': day, 'Balance': (spending_closing_bal + saving_closing_bal)})\n",
    "    spending_balances.append({'Date': day, 'Balance': spending_closing_bal})\n",
    "    saving_balances.append({'Date': day, 'Balance': saving_closing_bal})\n",
    "\n",
    "combined_bal = pd.DataFrame(data=combined_balances).set_index('Date')\n",
    "saving_bal = pd.DataFrame(data=saving_balances).set_index('Date')\n",
    "spending_bal = pd.DataFrame(data=spending_balances).set_index('Date')"
   ]
  },
  {
   "cell_type": "code",
   "execution_count": 52,
   "metadata": {},
   "outputs": [
    {
     "name": "stderr",
     "output_type": "stream",
     "text": [
      "/home/third-meow/.local/lib/python3.6/site-packages/ipykernel_launcher.py:15: SettingWithCopyWarning: \n",
      "A value is trying to be set on a copy of a slice from a DataFrame\n",
      "\n",
      "See the caveats in the documentation: http://pandas.pydata.org/pandas-docs/stable/indexing.html#indexing-view-versus-copy\n",
      "  from ipykernel import kernelapp as app\n",
      "/home/third-meow/.local/lib/python3.6/site-packages/ipykernel_launcher.py:21: SettingWithCopyWarning: \n",
      "A value is trying to be set on a copy of a slice from a DataFrame\n",
      "\n",
      "See the caveats in the documentation: http://pandas.pydata.org/pandas-docs/stable/indexing.html#indexing-view-versus-copy\n"
     ]
    },
    {
     "data": {
      "text/plain": [
       "<matplotlib.axes._subplots.AxesSubplot at 0x7f32ee3e4d68>"
      ]
     },
     "execution_count": 52,
     "metadata": {},
     "output_type": "execute_result"
    },
    {
     "data": {
      "image/png": "[encoded data removed]",
      "text/plain": [
       "<Figure size 432x288 with 1 Axes>"
      ]
     },
     "metadata": {
      "needs_background": "light"
     },
     "output_type": "display_data"
    }
   ],
   "source": [
    "combined_bal.plot()\n",
    "spending_bal.plot()\n",
    "saving_bal.plot()"
   ]
  },
  {
   "cell_type": "code",
   "execution_count": 53,
   "metadata": {},
   "outputs": [],
   "source": [
    "costs_df = spending_df[spending_df['Delta'] < 0]\n",
    "costs_df = costs_df[costs_df['Description'].str.startswith('TRANSFER') == False]"
   ]
  },
  {
   "cell_type": "code",
   "execution_count": 54,
   "metadata": {},
   "outputs": [
    {
     "name": "stdout",
     "output_type": "stream",
     "text": [
      "-11.086277056277055\n"
     ]
    },
    {
     "data": {
      "text/plain": [
       "<matplotlib.axes._subplots.AxesSubplot at 0x7f32ef017710>"
      ]
     },
     "execution_count": 54,
     "metadata": {},
     "output_type": "execute_result"
    },
    {
     "data": {
      "image/png": "[encoded data removed]",
      "text/plain": [
       "<Figure size 432x288 with 1 Axes>"
      ]
     },
     "metadata": {
      "needs_background": "light"
     },
     "output_type": "display_data"
    }
   ],
   "source": [
    "print(costs_df['Delta'].mean())\n",
    "costs_df[costs_df['Delta'] > -40]['Delta'].plot(kind='box')"
   ]
  },
  {
   "cell_type": "code",
   "execution_count": 55,
   "metadata": {},
   "outputs": [
    {
     "data": {
      "text/plain": [
       "<matplotlib.axes._subplots.AxesSubplot at 0x7f32eee87e48>"
      ]
     },
     "execution_count": 55,
     "metadata": {},
     "output_type": "execute_result"
    },
    {
     "data": {
      "image/png": "[encoded data removed]",
      "text/plain": [
       "<Figure size 432x288 with 1 Axes>"
      ]
     },
     "metadata": {
      "needs_background": "light"
     },
     "output_type": "display_data"
    }
   ],
   "source": [
    "from math import floor\n",
    "fives = []\n",
    "for c in costs_df['Delta']:\n",
    "    while len(fives) <= floor(-c/5):\n",
    "        fives.append(0)\n",
    "    fives[floor(-c/5)] += -c \n",
    "    \n",
    "labeled_fives = {}\n",
    "for (i, f) in enumerate(fives):\n",
    "    if f < 100:\n",
    "        pass\n",
    "    else:\n",
    "        labeled_fives[f'{i*5}-{(i+1)*5}'] = f\n",
    "        \n",
    "labels = [k for k in sorted(labeled_fives, key=labeled_fives.get, reverse=True)]\n",
    "costs_r5 = pd.Series(data=[labeled_fives[k] for k in labels], index=labels)\n",
    "costs_r5.plot(kind='bar')"
   ]
  },
  {
   "cell_type": "code",
   "execution_count": null,
   "metadata": {},
   "outputs": [],
   "source": []
  }
 ],
 "metadata": {
  "kernelspec": {
   "display_name": "Python 3",
   "language": "python",
   "name": "python3"
  },
  "language_info": {
   "codemirror_mode": {
    "name": "ipython",
    "version": 3
   },
   "file_extension": ".py",
   "mimetype": "text/x-python",
   "name": "python",
   "nbconvert_exporter": "python",
   "pygments_lexer": "ipython3",
   "version": "3.6.8"
  }
 },
 "nbformat": 4,
 "nbformat_minor": 2
}
