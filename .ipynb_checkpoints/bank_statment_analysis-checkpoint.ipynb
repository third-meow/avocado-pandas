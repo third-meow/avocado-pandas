{
 "cells": [
  {
   "cell_type": "code",
   "execution_count": 2,
   "metadata": {},
   "outputs": [],
   "source": [
    "import pandas as pd\n",
    "from datetime import timedelta, date\n",
    "\n",
    "## my personal bank statments, exported as a csv and stored locally on my machine\n",
    "spending_df = pd.read_csv('~/datasets/bank/spending_15Oct.CSV').set_index('Date')\n",
    "spending_df = spending_df.drop('Unnamed: 2', 1)\n",
    "saving_df = pd.read_csv('~/datasets/bank/saving_15Oct.CSV').set_index('Date')\n",
    "saving_df = saving_df.drop('Unnamed: 2', 1)"
   ]
  },
  {
   "cell_type": "code",
   "execution_count": 3,
   "metadata": {},
   "outputs": [
    {
     "name": "stdout",
     "output_type": "stream",
     "text": [
      "                                 Description  Delta  Balance\n",
      "Date                                                        \n",
      "18 Oct 2018    TRANSFER FROM J D SHEA - 02 ;   20.0    20.73\n",
      "18 Oct 2018    POS W/D FOUR SQUARE H-16:52 ;  -20.0     0.73\n",
      "19 Oct 2018    TRANSFER FROM J D SHEA - 02 ;    9.0     9.73\n",
      "19 Oct 2018  TWL 134 WELLINGTON WELLINGTON ;   -9.0     0.73\n",
      "26 Oct 2018    TRANSFER FROM J D SHEA - 02 ;   12.0    12.73\n",
      "\n",
      "                             Description  Delta  Balance\n",
      "Date                                                    \n",
      "18 Oct 2018  TRANSFER TO J D SHEA - 01 ;  -20.0   1872.3\n",
      "19 Oct 2018  TRANSFER TO J D SHEA - 01 ;   -9.0   1863.3\n",
      "26 Oct 2018  TRANSFER TO J D SHEA - 01 ;  -12.0   1851.3\n",
      "26 Oct 2018  TRANSFER TO J D SHEA - 01 ;   -3.0   1848.3\n",
      "31 Oct 2018            INTEREST CREDIT ;    2.0   1850.3\n"
     ]
    }
   ],
   "source": [
    "print(spending_df.head())\n",
    "print()\n",
    "print(saving_df.head())"
   ]
  },
  {
   "cell_type": "code",
   "execution_count": 4,
   "metadata": {},
   "outputs": [],
   "source": [
    "## taken from answer on stackoverflow\n",
    "## link: https://tinyurl.com/y2ufeqwe \n",
    "def daterange(start_date, end_date):\n",
    "    for n in range(int ((end_date - start_date).days)):\n",
    "        yield start_date + timedelta(n)"
   ]
  },
  {
   "cell_type": "code",
   "execution_count": 5,
   "metadata": {},
   "outputs": [
    {
     "data": {
      "text/plain": [
       "<matplotlib.axes._subplots.AxesSubplot at 0x7f2c9456ada0>"
      ]
     },
     "execution_count": 5,
     "metadata": {},
     "output_type": "execute_result"
    }
   ],
   "source": [
    "spending_bal = spending_df['Balance']\n",
    "spending_closing_bal = 0\n",
    "saving_bal = saving_df['Balance']\n",
    "saving_closing_bal = 0\n",
    "\n",
    "conbined_balances = []\n",
    "\n",
    "for day in daterange(date(2018, 10, 15), date(2019, 10, 15)):\n",
    "    day_fmt = day.strftime(\"%d %b %Y\")\n",
    "    try:\n",
    "        spending_closing_bal = spending_bal[day_fmt][-1:].item()\n",
    "    except IndexError:\n",
    "        spending_closing_bal = spending_bal[day_fmt]\n",
    "    except KeyError:\n",
    "        pass\n",
    "    try:\n",
    "        saving_closing_bal = saving_bal[day_fmt][-1:].item()\n",
    "    except IndexError:\n",
    "        saving_closing_bal = saving_bal[day_fmt]\n",
    "    except KeyError:\n",
    "        pass\n",
    "    \n",
    "    conbined_balances.append({'Date': day_fmt, 'Balance': (spending_closing_bal + saving_closing_bal)})\n",
    "    \n",
    "combined_bal = pd.DataFrame(data=conbined_balances).set_index('Date')\n",
    "combined_bal.plot()\n",
    "spending_bal.plot()\n",
    "saving_bal.plot()"
   ]
  },
  {
   "cell_type": "code",
   "execution_count": 6,
   "metadata": {},
   "outputs": [],
   "source": [
    "costs_df = spending_df[spending_df['Delta'] < 0]\n",
    "costs_df = costs_df[costs_df['Description'].str.startswith('TRANSFER') == False]"
   ]
  },
  {
   "cell_type": "code",
   "execution_count": 7,
   "metadata": {},
   "outputs": [
    {
     "name": "stdout",
     "output_type": "stream",
     "text": [
      "-11.086277056277055\n"
     ]
    },
    {
     "data": {
      "text/plain": [
       "<matplotlib.axes._subplots.AxesSubplot at 0x7f2c9168d240>"
      ]
     },
     "execution_count": 7,
     "metadata": {},
     "output_type": "execute_result"
    },
    {
     "data": {
      "image/png": "[encoded data removed]",
      "text/plain": [
       "<Figure size 432x288 with 1 Axes>"
      ]
     },
     "metadata": {
      "needs_background": "light"
     },
     "output_type": "display_data"
    }
   ],
   "source": [
    "print(costs_df['Delta'].mean())\n",
    "costs_df[costs_df['Delta'] > -100]['Delta'].plot(kind='box')"
   ]
  },
  {
   "cell_type": "code",
   "execution_count": 32,
   "metadata": {},
   "outputs": [
    {
     "data": {
      "text/plain": [
       "<matplotlib.axes._subplots.AxesSubplot at 0x7f2c900baac8>"
      ]
     },
     "execution_count": 32,
     "metadata": {},
     "output_type": "execute_result"
    },
    {
     "data": {
      "image/png": "[encoded data removed]",
      "text/plain": [
       "<Figure size 432x288 with 1 Axes>"
      ]
     },
     "metadata": {},
     "output_type": "display_data"
    }
   ],
   "source": [
    "from math import floor\n",
    "fives = []\n",
    "for c in costs_df['Delta']:\n",
    "    while len(fives) <= floor(-c/5):\n",
    "        fives.append(0)\n",
    "    fives[floor(-c/5)] += 1\n",
    "    \n",
    "for (i, f) in enumerate(fives):\n",
    "    if f != 1:\n",
    "        fives[i] = f * (i * 5)\n",
    "    else:\n",
    "        fives[i] = 0\n",
    "            \n",
    "costs_r5 = pd.Series(data=fives, index=[5 * x for x in range(1, costs_r5.size+1)])\n",
    "costs_r5.plot(kind='pie')"
   ]
  },
  {
   "cell_type": "code",
   "execution_count": null,
   "metadata": {},
   "outputs": [],
   "source": []
  }
 ],
 "metadata": {
  "kernelspec": {
   "display_name": "Python 3",
   "language": "python",
   "name": "python3"
  },
  "language_info": {
   "codemirror_mode": {
    "name": "ipython",
    "version": 3
   },
   "file_extension": ".py",
   "mimetype": "text/x-python",
   "name": "python",
   "nbconvert_exporter": "python",
   "pygments_lexer": "ipython3",
   "version": "3.6.8"
  }
 },
 "nbformat": 4,
 "nbformat_minor": 2
}
