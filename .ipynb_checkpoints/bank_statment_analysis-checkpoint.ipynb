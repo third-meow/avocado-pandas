{
 "cells": [
  {
   "cell_type": "code",
   "execution_count": 15,
   "metadata": {},
   "outputs": [],
   "source": [
    "import pandas as pd\n",
    "from datetime import timedelta, date, datetime\n",
    "\n",
    "## my personal bank statments, exported as a csv and stored locally on my machine\n",
    "spending_df = pd.read_csv('~/datasets/bank/spending_15Oct.CSV').set_index('Date')\n",
    "spending_df = spending_df.drop('Unnamed: 2', 1)\n",
    "saving_df = pd.read_csv('~/datasets/bank/saving_15Oct.CSV').set_index('Date')\n",
    "saving_df = saving_df.drop('Unnamed: 2', 1)"
   ]
  },
  {
   "cell_type": "code",
   "execution_count": 16,
   "metadata": {},
   "outputs": [
    {
     "name": "stdout",
     "output_type": "stream",
     "text": [
      "                                 Description  Delta  Balance\n",
      "Date                                                        \n",
      "18 Oct 2018    TRANSFER FROM J D SHEA - 02 ;   20.0    20.73\n",
      "18 Oct 2018    POS W/D FOUR SQUARE H-16:52 ;  -20.0     0.73\n",
      "19 Oct 2018    TRANSFER FROM J D SHEA - 02 ;    9.0     9.73\n",
      "19 Oct 2018  TWL 134 WELLINGTON WELLINGTON ;   -9.0     0.73\n",
      "26 Oct 2018    TRANSFER FROM J D SHEA - 02 ;   12.0    12.73\n",
      "\n",
      "                             Description  Delta  Balance\n",
      "Date                                                    \n",
      "18 Oct 2018  TRANSFER TO J D SHEA - 01 ;  -20.0   1872.3\n",
      "19 Oct 2018  TRANSFER TO J D SHEA - 01 ;   -9.0   1863.3\n",
      "26 Oct 2018  TRANSFER TO J D SHEA - 01 ;  -12.0   1851.3\n",
      "26 Oct 2018  TRANSFER TO J D SHEA - 01 ;   -3.0   1848.3\n",
      "31 Oct 2018            INTEREST CREDIT ;    2.0   1850.3\n"
     ]
    }
   ],
   "source": [
    "print(spending_df.head())\n",
    "print()\n",
    "print(saving_df.head())"
   ]
  },
  {
   "cell_type": "code",
   "execution_count": 17,
   "metadata": {},
   "outputs": [],
   "source": [
    "## taken from answer on stackoverflow\n",
    "## link: https://tinyurl.com/y2ufeqwe \n",
    "def daterange(start_date, end_date):\n",
    "    for n in range(int ((end_date - start_date).days)):\n",
    "        yield (start_date + timedelta(n)).strftime(\"%d %b %Y\")"
   ]
  },
  {
   "cell_type": "code",
   "execution_count": 18,
   "metadata": {},
   "outputs": [
    {
     "name": "stdout",
     "output_type": "stream",
     "text": [
      "18 Oct 2018    20.73\n",
      "18 Oct 2018     0.73\n",
      "Name: Balance, dtype: float64\n"
     ]
    }
   ],
   "source": [
    "print(spending_df['Balance']['18 Oct 2018'])"
   ]
  },
  {
   "cell_type": "code",
   "execution_count": 19,
   "metadata": {},
   "outputs": [
    {
     "data": {
      "text/plain": [
       "<matplotlib.axes._subplots.AxesSubplot at 0x7f60beb415c0>"
      ]
     },
     "execution_count": 19,
     "metadata": {},
     "output_type": "execute_result"
    },
    {
     "data": {
      "image/png": "[encoded data removed]",
      "text/plain": [
       "<Figure size 432x288 with 1 Axes>"
      ]
     },
     "metadata": {
      "needs_background": "light"
     },
     "output_type": "display_data"
    }
   ],
   "source": [
    "last_spend_bal = 0\n",
    "spending_balances = []\n",
    "\n",
    "last_save_bal = 0\n",
    "saving_balances = []\n",
    "\n",
    "combined_balances = []\n",
    "\n",
    "for day in daterange(date(2018, 10, 15), date(2019, 10, 15)):\n",
    "    try:\n",
    "        last_save_bal = saving_df['Balance'][day][-1:].item()\n",
    "    except IndexError:    # occurs when only one transaction has occured that day\n",
    "        last_save_bal = saving_df['Balance'][day]\n",
    "    except KeyError:      # occures when no transations have occured that day\n",
    "        pass\n",
    "    \n",
    "    try:\n",
    "        last_spend_bal = spending_df['Balance'][day][-1:].item()\n",
    "    except IndexError:    # occurs when only one transaction has occured that day\n",
    "        last_spend_bal = spending_df['Balance'][day]\n",
    "    except KeyError:      # occures when no transations have occured that day\n",
    "        pass\n",
    "    \n",
    "    combined_balances.append({'Date': day, 'Balance': (last_spend_bal + last_save_bal)})\n",
    "    spending_balances.append({'Date': day, 'Balance': last_spend_bal})\n",
    "    saving_balances.append({'Date': day, 'Balance': last_save_bal})\n",
    "\n",
    "combined_bal = pd.DataFrame(data=combined_balances).set_index('Date')\n",
    "saving_bal = pd.DataFrame(data=saving_balances).set_index('Date')\n",
    "spending_bal = pd.DataFrame(data=spending_balances).set_index('Date')\n",
    "\n",
    "combined_bal['Balance'].plot()\n",
    "spending_bal['Balance'].plot()\n",
    "saving_bal['Balance'].plot()"
   ]
  },
  {
   "cell_type": "code",
   "execution_count": 20,
   "metadata": {},
   "outputs": [],
   "source": [
    "costs_df = spending_df[spending_df['Delta'] < 0]\n",
    "costs_df = costs_df[costs_df['Description'].str.startswith('TRANSFER') == False]"
   ]
  },
  {
   "cell_type": "code",
   "execution_count": 21,
   "metadata": {},
   "outputs": [
    {
     "name": "stdout",
     "output_type": "stream",
     "text": [
      "-11.086277056277055\n"
     ]
    },
    {
     "data": {
      "text/plain": [
       "<matplotlib.axes._subplots.AxesSubplot at 0x7f60be1b3c18>"
      ]
     },
     "execution_count": 21,
     "metadata": {},
     "output_type": "execute_result"
    },
    {
     "data": {
      "image/png": "[encoded data removed]",
      "text/plain": [
       "<Figure size 432x288 with 1 Axes>"
      ]
     },
     "metadata": {
      "needs_background": "light"
     },
     "output_type": "display_data"
    }
   ],
   "source": [
    "print(costs_df['Delta'].mean())\n",
    "costs_df[costs_df['Delta'] > -40]['Delta'].plot(kind='box')"
   ]
  },
  {
   "cell_type": "code",
   "execution_count": 22,
   "metadata": {},
   "outputs": [
    {
     "data": {
      "text/plain": [
       "<matplotlib.axes._subplots.AxesSubplot at 0x7f60be2e7048>"
      ]
     },
     "execution_count": 22,
     "metadata": {},
     "output_type": "execute_result"
    },
    {
     "data": {
      "image/png": "[encoded data removed]",
      "text/plain": [
       "<Figure size 432x288 with 1 Axes>"
      ]
     },
     "metadata": {
      "needs_background": "light"
     },
     "output_type": "display_data"
    }
   ],
   "source": [
    "from math import floor\n",
    "fives = []\n",
    "for c in costs_df['Delta']:\n",
    "    while len(fives) <= floor(-c/5):\n",
    "        fives.append(0)\n",
    "    fives[floor(-c/5)] += -c \n",
    "    \n",
    "labeled_fives = {}\n",
    "for (i, f) in enumerate(fives):\n",
    "    if f < 100:\n",
    "        pass\n",
    "    else:\n",
    "        labeled_fives[f'{i*5}-{(i+1)*5}'] = f\n",
    "        \n",
    "labels = [k for k in sorted(labeled_fives, key=labeled_fives.get, reverse=True)]\n",
    "costs_r5 = pd.Series(data=[labeled_fives[k] for k in labels], index=labels)\n",
    "costs_r5.plot(kind='bar')"
   ]
  },
  {
   "cell_type": "code",
   "execution_count": 49,
   "metadata": {},
   "outputs": [
    {
     "name": "stdout",
     "output_type": "stream",
     "text": [
      "['Friday', 'Sunday', 'Saturday', 'Wednesday', 'Thursday', 'Monday', 'Tuesday']\n"
     ]
    },
    {
     "data": {
      "text/plain": [
       "<matplotlib.axes._subplots.AxesSubplot at 0x7f60bd68e160>"
      ]
     },
     "execution_count": 49,
     "metadata": {},
     "output_type": "execute_result"
    },
    {
     "data": {
      "image/png": "[encoded data removed]",
      "text/plain": [
       "<Figure size 432x288 with 1 Axes>"
      ]
     },
     "metadata": {
      "needs_background": "light"
     },
     "output_type": "display_data"
    }
   ],
   "source": [
    "weekday_costs = {}\n",
    "for day, row in costs_df.iterrows():\n",
    "    weekday = datetime.strptime(day, \"%d %b %Y\").strftime(\"%A\")\n",
    "    try:\n",
    "        weekday_costs[weekday] += -(row['Delta'])\n",
    "    except KeyError:\n",
    "        weekday_costs[weekday] = -(row['Delta'])\n",
    "\n",
    "sorted_labels = sorted(weekday_costs, key=weekday_costs.get, reverse=True)\n",
    "pd.Series(data=[weekday_costs[k] for k in sorted_labels], index=sorted_labels).plot(kind='bar')"
   ]
  },
  {
   "cell_type": "code",
   "execution_count": null,
   "metadata": {},
   "outputs": [],
   "source": []
  }
 ],
 "metadata": {
  "kernelspec": {
   "display_name": "Python 3",
   "language": "python",
   "name": "python3"
  },
  "language_info": {
   "codemirror_mode": {
    "name": "ipython",
    "version": 3
   },
   "file_extension": ".py",
   "mimetype": "text/x-python",
   "name": "python",
   "nbconvert_exporter": "python",
   "pygments_lexer": "ipython3",
   "version": "3.6.8"
  }
 },
 "nbformat": 4,
 "nbformat_minor": 2
}
