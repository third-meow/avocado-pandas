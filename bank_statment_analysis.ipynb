{
 "cells": [
  {
   "cell_type": "code",
   "execution_count": 94,
   "metadata": {},
   "outputs": [],
   "source": [
    "import pandas as pd\n",
    "from datetime import timedelta, date\n",
    "\n",
    "## my personal bank statments, exported as a csv and stored locally on my machine\n",
    "spending_df = pd.read_csv('~/datasets/bank/spending_15Oct.CSV').set_index('Date')\n",
    "spending_df = spending_df.drop('Unnamed: 2', 1)\n",
    "saving_df = pd.read_csv('~/datasets/bank/saving_15Oct.CSV').set_index('Date')\n",
    "saving_df = saving_df.drop('Unnamed: 2', 1)"
   ]
  },
  {
   "cell_type": "code",
   "execution_count": 95,
   "metadata": {},
   "outputs": [
    {
     "name": "stdout",
     "output_type": "stream",
     "text": [
      "                                 Description  Delta  Balance\n",
      "Date                                                        \n",
      "18 Oct 2018    TRANSFER FROM J D SHEA - 02 ;   20.0    20.73\n",
      "18 Oct 2018    POS W/D FOUR SQUARE H-16:52 ;  -20.0     0.73\n",
      "19 Oct 2018    TRANSFER FROM J D SHEA - 02 ;    9.0     9.73\n",
      "19 Oct 2018  TWL 134 WELLINGTON WELLINGTON ;   -9.0     0.73\n",
      "26 Oct 2018    TRANSFER FROM J D SHEA - 02 ;   12.0    12.73\n",
      "\n",
      "                             Description  Delta  Balance\n",
      "Date                                                    \n",
      "18 Oct 2018  TRANSFER TO J D SHEA - 01 ;  -20.0   1872.3\n",
      "19 Oct 2018  TRANSFER TO J D SHEA - 01 ;   -9.0   1863.3\n",
      "26 Oct 2018  TRANSFER TO J D SHEA - 01 ;  -12.0   1851.3\n",
      "26 Oct 2018  TRANSFER TO J D SHEA - 01 ;   -3.0   1848.3\n",
      "31 Oct 2018            INTEREST CREDIT ;    2.0   1850.3\n"
     ]
    }
   ],
   "source": [
    "print(spending_df.head())\n",
    "print()\n",
    "print(saving_df.head())"
   ]
  },
  {
   "cell_type": "code",
   "execution_count": 96,
   "metadata": {},
   "outputs": [],
   "source": [
    "## taken from answer on stackoverflow\n",
    "## link: https://tinyurl.com/y2ufeqwe \n",
    "def daterange(start_date, end_date):\n",
    "    for n in range(int ((end_date - start_date).days)):\n",
    "        yield start_date + timedelta(n)"
   ]
  },
  {
   "cell_type": "code",
   "execution_count": 97,
   "metadata": {},
   "outputs": [
    {
     "name": "stdout",
     "output_type": "stream",
     "text": [
      "0\n",
      "0\n",
      "0\n",
      "1873.03\n",
      "1864.03\n",
      "1864.03\n",
      "1864.03\n",
      "1864.03\n",
      "1864.03\n",
      "1864.03\n",
      "1864.03\n",
      "1864.03\n",
      "1864.03\n",
      "1849.03\n",
      "1921.03\n",
      "1921.03\n",
      "1922.68\n",
      "1922.68\n",
      "1922.68\n",
      "1917.38\n",
      "1917.38\n",
      "1917.38\n",
      "1917.38\n",
      "1917.38\n",
      "1917.38\n",
      "1911.38\n",
      "1911.38\n",
      "1911.38\n",
      "2001.38\n",
      "2000.49\n",
      "1969.6100000000001\n"
     ]
    }
   ],
   "source": [
    "spending_bal = spending_df['Balance']\n",
    "spending_closing_bal = 0\n",
    "saving_bal = saving_df['Balance']\n",
    "saving_closing_bal = 0\n",
    "\n",
    "combined_bal = pd.DataFrame(columns=['Date', 'Balance'])\n",
    "\n",
    "for day in daterange(date(2018, 10, 15), date(2018, 11, 15)):\n",
    "    day_fmt = day.strftime(\"%d %b %Y\")\n",
    "    try:\n",
    "        spending_closing_bal = spending_bal[day_fmt][-1:].item()\n",
    "    except IndexError:\n",
    "        spending_closing_bal = spending_bal[day_fmt]\n",
    "    except KeyError:\n",
    "        pass\n",
    "    try:\n",
    "        saving_closing_bal = saving_bal[day_fmt][-1:].item()\n",
    "    except IndexError:\n",
    "        saving_closing_bal = saving_bal[day_fmt]\n",
    "    except KeyError:\n",
    "        pass\n",
    "    \n",
    "    print(spending_closing_bal + saving_closing_bal)\n",
    "        \n",
    "    "
   ]
  },
  {
   "cell_type": "code",
   "execution_count": null,
   "metadata": {},
   "outputs": [],
   "source": []
  }
 ],
 "metadata": {
  "kernelspec": {
   "display_name": "Python 3",
   "language": "python",
   "name": "python3"
  },
  "language_info": {
   "codemirror_mode": {
    "name": "ipython",
    "version": 3
   },
   "file_extension": ".py",
   "mimetype": "text/x-python",
   "name": "python",
   "nbconvert_exporter": "python",
   "pygments_lexer": "ipython3",
   "version": "3.6.8"
  }
 },
 "nbformat": 4,
 "nbformat_minor": 2
}
